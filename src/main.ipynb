{
 "cells": [
  {
   "cell_type": "markdown",
   "metadata": {},
   "source": [
    "---\n",
    "title: Implementation of Binary Classifiers\n",
    "description: In this document we train multiple models to classify spam and non-spam messages. \n",
    "---"
   ]
  },
  {
   "cell_type": "markdown",
   "metadata": {},
   "source": [
    "### Imports"
   ]
  },
  {
   "cell_type": "code",
   "execution_count": 101,
   "metadata": {},
   "outputs": [],
   "source": [
    "import pandas as pd\n",
    "import numpy as np\n",
    "from pathlib import Path"
   ]
  },
  {
   "cell_type": "markdown",
   "metadata": {},
   "source": [
    "### Loading data"
   ]
  },
  {
   "cell_type": "code",
   "execution_count": 102,
   "metadata": {},
   "outputs": [
    {
     "data": {
      "text/html": [
       "<div>\n",
       "<style scoped>\n",
       "    .dataframe tbody tr th:only-of-type {\n",
       "        vertical-align: middle;\n",
       "    }\n",
       "\n",
       "    .dataframe tbody tr th {\n",
       "        vertical-align: top;\n",
       "    }\n",
       "\n",
       "    .dataframe thead th {\n",
       "        text-align: right;\n",
       "    }\n",
       "</style>\n",
       "<table border=\"1\" class=\"dataframe\">\n",
       "  <thead>\n",
       "    <tr style=\"text-align: right;\">\n",
       "      <th></th>\n",
       "      <th>labels</th>\n",
       "      <th>text</th>\n",
       "      <th>text_hi</th>\n",
       "      <th>text_de</th>\n",
       "      <th>text_fr</th>\n",
       "    </tr>\n",
       "  </thead>\n",
       "  <tbody>\n",
       "    <tr>\n",
       "      <th>0</th>\n",
       "      <td>ham</td>\n",
       "      <td>Go until jurong point, crazy.. Available only ...</td>\n",
       "      <td>Dakag बिंदु तक जाओ, पागल. केवल Bag Non महान वि...</td>\n",
       "      <td>Gehen Sie bis jurong Punkt, verrückt.. Verfügb...</td>\n",
       "      <td>Allez jusqu'à Jurong point, fou.. Disponible s...</td>\n",
       "    </tr>\n",
       "    <tr>\n",
       "      <th>1</th>\n",
       "      <td>ham</td>\n",
       "      <td>Ok lar... Joking wif u oni...</td>\n",
       "      <td>ओके लामर.... if if uue पर.</td>\n",
       "      <td>Ok Lar... joking wif u oni...</td>\n",
       "      <td>J'ai fait une blague sur le wif u oni...</td>\n",
       "    </tr>\n",
       "    <tr>\n",
       "      <th>2</th>\n",
       "      <td>spam</td>\n",
       "      <td>Free entry in 2 a wkly comp to win FA Cup fina...</td>\n",
       "      <td>Fktatatat 21 मई को प्राप्त करने के लिए मुफ्त प...</td>\n",
       "      <td>Freier Eintritt in 2 a wkly comp zum Gewinn FA...</td>\n",
       "      <td>Entrée libre dans 2 a wkly comp pour gagner FA...</td>\n",
       "    </tr>\n",
       "    <tr>\n",
       "      <th>3</th>\n",
       "      <td>ham</td>\n",
       "      <td>U dun say so early hor... U c already then say...</td>\n",
       "      <td>Uden इतना जल्दी कहते हैं... तो पहले से ही यूसी...</td>\n",
       "      <td>U dun sagen so früh... U c schon dann sagen...</td>\n",
       "      <td>U dun dit si tôt hor... U c déjà dire alors...</td>\n",
       "    </tr>\n",
       "    <tr>\n",
       "      <th>4</th>\n",
       "      <td>ham</td>\n",
       "      <td>Nah I don't think he goes to usf, he lives aro...</td>\n",
       "      <td>नहीं, मुझे नहीं लगता कि वह हमारे लिए चला जाता ...</td>\n",
       "      <td>Nein, ich glaube nicht, dass er zu unsf geht, ...</td>\n",
       "      <td>Non, je ne pense pas qu'il va à usf, il vit da...</td>\n",
       "    </tr>\n",
       "  </tbody>\n",
       "</table>\n",
       "</div>"
      ],
      "text/plain": [
       "  labels                                               text  \\\n",
       "0    ham  Go until jurong point, crazy.. Available only ...   \n",
       "1    ham                      Ok lar... Joking wif u oni...   \n",
       "2   spam  Free entry in 2 a wkly comp to win FA Cup fina...   \n",
       "3    ham  U dun say so early hor... U c already then say...   \n",
       "4    ham  Nah I don't think he goes to usf, he lives aro...   \n",
       "\n",
       "                                             text_hi  \\\n",
       "0  Dakag बिंदु तक जाओ, पागल. केवल Bag Non महान वि...   \n",
       "1                         ओके लामर.... if if uue पर.   \n",
       "2  Fktatatat 21 मई को प्राप्त करने के लिए मुफ्त प...   \n",
       "3  Uden इतना जल्दी कहते हैं... तो पहले से ही यूसी...   \n",
       "4  नहीं, मुझे नहीं लगता कि वह हमारे लिए चला जाता ...   \n",
       "\n",
       "                                             text_de  \\\n",
       "0  Gehen Sie bis jurong Punkt, verrückt.. Verfügb...   \n",
       "1                      Ok Lar... joking wif u oni...   \n",
       "2  Freier Eintritt in 2 a wkly comp zum Gewinn FA...   \n",
       "3     U dun sagen so früh... U c schon dann sagen...   \n",
       "4  Nein, ich glaube nicht, dass er zu unsf geht, ...   \n",
       "\n",
       "                                             text_fr  \n",
       "0  Allez jusqu'à Jurong point, fou.. Disponible s...  \n",
       "1           J'ai fait une blague sur le wif u oni...  \n",
       "2  Entrée libre dans 2 a wkly comp pour gagner FA...  \n",
       "3     U dun dit si tôt hor... U c déjà dire alors...  \n",
       "4  Non, je ne pense pas qu'il va à usf, il vit da...  "
      ]
     },
     "execution_count": 102,
     "metadata": {},
     "output_type": "execute_result"
    }
   ],
   "source": [
    "#| label: table_original_data_head\n",
    "\n",
    "data = Path('../data/data-en-hi-de-fr.csv')\n",
    "df = pd.read_csv(data)\n",
    "df.head()"
   ]
  },
  {
   "cell_type": "code",
   "execution_count": 103,
   "metadata": {},
   "outputs": [
    {
     "data": {
      "text/plain": [
       "labels\n",
       "ham     4825\n",
       "spam     747\n",
       "Name: count, dtype: int64"
      ]
     },
     "execution_count": 103,
     "metadata": {},
     "output_type": "execute_result"
    }
   ],
   "source": [
    "df.labels.value_counts()"
   ]
  },
  {
   "cell_type": "code",
   "execution_count": 104,
   "metadata": {},
   "outputs": [
    {
     "data": {
      "text/html": [
       "<style type=\"text/css\">\n",
       "#T_b0c11_row0_col1, #T_b0c11_row1_col1, #T_b0c11_row2_col1, #T_b0c11_row3_col1, #T_b0c11_row4_col1 {\n",
       "  width: 1000px;\n",
       "}\n",
       "</style>\n",
       "<table id=\"T_b0c11\">\n",
       "  <thead>\n",
       "    <tr>\n",
       "      <th id=\"T_b0c11_level0_col0\" class=\"col_heading level0 col0\" >is_spam</th>\n",
       "      <th id=\"T_b0c11_level0_col1\" class=\"col_heading level0 col1\" >text</th>\n",
       "    </tr>\n",
       "  </thead>\n",
       "  <tbody>\n",
       "    <tr>\n",
       "      <td id=\"T_b0c11_row0_col0\" class=\"data row0 col0\" >0</td>\n",
       "      <td id=\"T_b0c11_row0_col1\" class=\"data row0 col1\" >Allez jusqu'à Jurong point, fou.. Disponible seulement dans bugis n grand monde la e buffet... Cine il y a eu plus...</td>\n",
       "    </tr>\n",
       "    <tr>\n",
       "      <td id=\"T_b0c11_row1_col0\" class=\"data row1 col0\" >0</td>\n",
       "      <td id=\"T_b0c11_row1_col1\" class=\"data row1 col1\" >J'ai fait une blague sur le wif u oni...</td>\n",
       "    </tr>\n",
       "    <tr>\n",
       "      <td id=\"T_b0c11_row2_col0\" class=\"data row2 col0\" >1</td>\n",
       "      <td id=\"T_b0c11_row2_col1\" class=\"data row2 col1\" >Entrée libre dans 2 a wkly comp pour gagner FA Cup final tkts 21 mai 2005. Texte FA à 87121 pour recevoir la question d'entrée(std txt rate)T&C's appliquer 08452810075over18's</td>\n",
       "    </tr>\n",
       "    <tr>\n",
       "      <td id=\"T_b0c11_row3_col0\" class=\"data row3 col0\" >0</td>\n",
       "      <td id=\"T_b0c11_row3_col1\" class=\"data row3 col1\" >U dun dit si tôt hor... U c déjà dire alors...</td>\n",
       "    </tr>\n",
       "    <tr>\n",
       "      <td id=\"T_b0c11_row4_col0\" class=\"data row4 col0\" >0</td>\n",
       "      <td id=\"T_b0c11_row4_col1\" class=\"data row4 col1\" >Non, je ne pense pas qu'il va à usf, il vit dans le coin.</td>\n",
       "    </tr>\n",
       "  </tbody>\n",
       "</table>\n"
      ],
      "text/plain": [
       "<pandas.io.formats.style.Styler at 0x17817fad0>"
      ]
     },
     "execution_count": 104,
     "metadata": {},
     "output_type": "execute_result"
    }
   ],
   "source": [
    "#| label: table_data_head\n",
    "\n",
    "df = df[['labels', 'text_fr']]\n",
    "df['labels'] = df['labels'].map({'ham': 0, 'spam': 1})\n",
    "df = df.rename(columns={'text_fr': 'text', 'labels': 'is_spam'})\n",
    "\n",
    "df.head().style.set_properties(subset=['text'], **{'width': '1000px'}).hide(axis='index')"
   ]
  },
  {
   "cell_type": "markdown",
   "metadata": {},
   "source": [
    "### Preprocessing"
   ]
  },
  {
   "cell_type": "markdown",
   "metadata": {},
   "source": [
    "#### Feature extraction and text cleaning"
   ]
  },
  {
   "cell_type": "code",
   "execution_count": 105,
   "metadata": {},
   "outputs": [],
   "source": [
    "import html\n",
    "import unicodedata\n",
    "import re\n",
    "\n",
    "def preprocess_text(text):\n",
    "    # Unescape HTML\n",
    "    text = html.unescape(text)\n",
    "    # Lowercase text\n",
    "    text = text.lower()\n",
    "    # Remove accents\n",
    "    text = unicodedata.normalize('NFKD', text).encode('ascii', 'ignore').decode('utf-8')\n",
    "    # Remove URLs and replace with 'URL'\n",
    "    text = re.sub(r'http\\S+', 'URL', text)\n",
    "    # Remove emails and replace with 'EMAIL'\n",
    "    text = re.sub(r'\\b\\S+@\\S+\\.\\S+\\b', 'EMAIL', text)\n",
    "    # Remove potential phone numbers and replace with 'PHONE'\n",
    "    text = re.sub(r'\\b\\d{5,}(-\\d{5,})*\\b', 'PHONE', text)\n",
    "    # Remove digits and replace with 'DIGIT'\n",
    "    text = re.sub(r'\\d+', ' DIGIT ', text)\n",
    "    # Remove single quotes\n",
    "    text = text.replace(\"'\", '')\n",
    "    # Remove any non-alphanumeric characters\n",
    "    text = re.sub(r'[^a-zA-Z\\s]', ' ', text)\n",
    "    return text\n",
    "\n",
    "df['text'] = df['text'].apply(preprocess_text)"
   ]
  },
  {
   "cell_type": "markdown",
   "metadata": {},
   "source": [
    "#### Tokenise, remove stop words and apply stemming\n",
    "\n",
    "- using NLTK word_tokenize which uses an improved .TreebankWordTokenizer along with .PunktSentenceTokenizer for the specified language\n",
    "- using NLTK SnowballStemmer with 'french' language\n",
    "- using stopwords list form NLTK"
   ]
  },
  {
   "cell_type": "code",
   "execution_count": 106,
   "metadata": {},
   "outputs": [
    {
     "name": "stderr",
     "output_type": "stream",
     "text": [
      "[nltk_data] Downloading package stopwords to\n",
      "[nltk_data]     /Users/mathisderenne/nltk_data...\n",
      "[nltk_data]   Package stopwords is already up-to-date!\n",
      "[nltk_data] Downloading package punkt_tab to\n",
      "[nltk_data]     /Users/mathisderenne/nltk_data...\n",
      "[nltk_data]   Package punkt_tab is already up-to-date!\n"
     ]
    }
   ],
   "source": [
    "import nltk\n",
    "nltk.download('stopwords')\n",
    "nltk.download('punkt_tab')\n",
    "\n",
    "# Tokenize text\n",
    "from nltk.tokenize import word_tokenize\n",
    "df['tokens'] = df['text'].apply(lambda x: word_tokenize(x, language='french'))\n",
    "\n",
    "# Remove stopwords\n",
    "from nltk.corpus import stopwords\n",
    "stop_words = set(stopwords.words('french'))\n",
    "df['tokens'] = df['tokens'].apply(lambda x: [word for word in x if word not in stop_words])\n",
    "\n",
    "# Stem tokens\n",
    "from nltk.stem import SnowballStemmer\n",
    "df['tokens'] = df['tokens'].apply(lambda x: [SnowballStemmer('french').stem(word) for word in x])\n",
    "\n",
    "# Join tokens back together\n",
    "df['text'] = df['tokens'].apply(lambda x: ' '.join(x))"
   ]
  },
  {
   "cell_type": "code",
   "execution_count": null,
   "metadata": {},
   "outputs": [],
   "source": [
    "from sklearn.pipeline import Pipeline\n",
    "from sklearn.feature_extraction.text import CountVectorizer, TfidfTransformer\n",
    "\n",
    "preprocessor = Pipeline([\n",
    "    ('vectorizer', CountVectorizer(min_df=5, max_df=0.7)),\n",
    "    ('tfidf_transformer', TfidfTransformer(use_idf=True)),\n",
    "])\n",
    "\n",
    "preprocessor_param = {\n",
    "    'preprocessor__vectorizer__ngram_range': [(1, 1), (1, 2)],\n",
    "}"
   ]
  },
  {
   "cell_type": "markdown",
   "metadata": {},
   "source": [
    "### Model definition"
   ]
  },
  {
   "cell_type": "code",
   "execution_count": 109,
   "metadata": {},
   "outputs": [],
   "source": [
    "from sklearn.naive_bayes import MultinomialNB\n",
    "from sklearn.linear_model import LogisticRegression\n",
    "from sklearn.svm import SVC\n",
    "\n",
    "models = [\n",
    "    {\n",
    "        'model_name' : 'Naive Bayes',\n",
    "        'model_filepath' : Path('naive_bayes_model.pkl'),\n",
    "        'model_instance' : MultinomialNB(),\n",
    "        'model_param' : \n",
    "        {\n",
    "            'model__alpha' : np.linspace(0.1, 1, 5)\n",
    "        },\n",
    "        'best_model' : None,\n",
    "    },\n",
    "    {\n",
    "        'model_name' : 'Logistic Regression',\n",
    "        'model_filepath' : Path('logistic_regression_model.pkl'),\n",
    "        'model_instance' : LogisticRegression(penalty='l2', max_iter=500),\n",
    "        'model_param' : \n",
    "        {\n",
    "            'model__C' : np.linspace(0.1, 1, 5)\n",
    "        },\n",
    "        'best_model' : None,\n",
    "    },\n",
    "    {\n",
    "        'model_name' : 'SVC',\n",
    "        'model_filepath' : Path('svc_model.pkl'),\n",
    "        'model_instance' : SVC(kernel = 'rbf', degree = 3, gamma = 'scale', probability=True),\n",
    "        'model_param' : \n",
    "        { \n",
    "            'model__C' : np.linspace(0.1, 1, 5) \n",
    "        },\n",
    "        'best_model': None,\n",
    "    }\n",
    "]"
   ]
  },
  {
   "cell_type": "markdown",
   "metadata": {},
   "source": [
    "### Model training"
   ]
  },
  {
   "cell_type": "code",
   "execution_count": 110,
   "metadata": {},
   "outputs": [
    {
     "name": "stdout",
     "output_type": "stream",
     "text": [
      "Best parameters for Naive Bayes: {'model__alpha': 0.55, 'preprocessor__vectorizer__ngram_range': (1, 2)}\n",
      "Best parameters for Logistic Regression: {'model__C': 1.0, 'preprocessor__vectorizer__ngram_range': (1, 2)}\n",
      "Best parameters for SVC: {'model__C': 1.0, 'preprocessor__vectorizer__ngram_range': (1, 2)}\n"
     ]
    }
   ],
   "source": [
    "from sklearn.model_selection import train_test_split, GridSearchCV\n",
    "\n",
    "# Split the data into training and testing sets\n",
    "X_train, X_test, y_train, y_test = train_test_split(df['text'], df['is_spam'], test_size=0.3, random_state=42)\n",
    "\n",
    "for model_infos in models:\n",
    "    \n",
    "    pipeline = Pipeline([\n",
    "        ('preprocessor', preprocessor),\n",
    "        ('model', model_infos['model_instance'])\n",
    "    ])\n",
    "    \n",
    "    param_grid = {**preprocessor_param, **model_infos['model_param']}\n",
    "    \n",
    "    # Find best hyperparameters\n",
    "    grid_search = GridSearchCV(pipeline, param_grid, cv=5, n_jobs=-1)\n",
    "    grid_search.fit(X_train, y_train)\n",
    "    print(f\"Best parameters for {model_infos['model_name']}: {grid_search.best_params_}\")\n",
    "    \n",
    "    # Save model with best hyperparameters\n",
    "    model_infos['best_model'] = grid_search.best_estimator_"
   ]
  },
  {
   "cell_type": "markdown",
   "metadata": {},
   "source": [
    "### Model evaluation"
   ]
  },
  {
   "cell_type": "code",
   "execution_count": 111,
   "metadata": {},
   "outputs": [],
   "source": [
    "from utils import roc_plot, precision_recall_plot, table_report"
   ]
  },
  {
   "cell_type": "markdown",
   "metadata": {},
   "source": [
    "#### Naive Bayes"
   ]
  },
  {
   "cell_type": "code",
   "execution_count": 112,
   "metadata": {},
   "outputs": [],
   "source": [
    "model_infos = models[0]\n",
    "best_model = model_infos['best_model']\n",
    "y_pred = best_model.predict(X_test)\n",
    "y_pred_proba = best_model.predict_proba(X_test)"
   ]
  },
  {
   "cell_type": "code",
   "execution_count": 113,
   "metadata": {},
   "outputs": [
    {
     "data": {
      "text/html": [
       "<div>\n",
       "<style scoped>\n",
       "    .dataframe tbody tr th:only-of-type {\n",
       "        vertical-align: middle;\n",
       "    }\n",
       "\n",
       "    .dataframe tbody tr th {\n",
       "        vertical-align: top;\n",
       "    }\n",
       "\n",
       "    .dataframe thead th {\n",
       "        text-align: right;\n",
       "    }\n",
       "</style>\n",
       "<table border=\"1\" class=\"dataframe\">\n",
       "  <thead>\n",
       "    <tr style=\"text-align: right;\">\n",
       "      <th></th>\n",
       "      <th>precision</th>\n",
       "      <th>recall</th>\n",
       "      <th>f1-score</th>\n",
       "      <th>support</th>\n",
       "    </tr>\n",
       "  </thead>\n",
       "  <tbody>\n",
       "    <tr>\n",
       "      <th>ham</th>\n",
       "      <td>98.70%</td>\n",
       "      <td>99.86%</td>\n",
       "      <td>99.28%</td>\n",
       "      <td>1448</td>\n",
       "    </tr>\n",
       "    <tr>\n",
       "      <th>spam</th>\n",
       "      <td>99.03%</td>\n",
       "      <td>91.52%</td>\n",
       "      <td>95.13%</td>\n",
       "      <td>224</td>\n",
       "    </tr>\n",
       "    <tr>\n",
       "      <th>accuracy</th>\n",
       "      <td></td>\n",
       "      <td></td>\n",
       "      <td>98.74%</td>\n",
       "      <td>1672</td>\n",
       "    </tr>\n",
       "    <tr>\n",
       "      <th>macro avg</th>\n",
       "      <td>98.87%</td>\n",
       "      <td>95.69%</td>\n",
       "      <td>97.20%</td>\n",
       "      <td>1672</td>\n",
       "    </tr>\n",
       "    <tr>\n",
       "      <th>weighted avg</th>\n",
       "      <td>98.75%</td>\n",
       "      <td>98.74%</td>\n",
       "      <td>98.72%</td>\n",
       "      <td>1672</td>\n",
       "    </tr>\n",
       "  </tbody>\n",
       "</table>\n",
       "</div>"
      ],
      "text/plain": [
       "             precision  recall f1-score  support\n",
       "ham             98.70%  99.86%   99.28%     1448\n",
       "spam            99.03%  91.52%   95.13%      224\n",
       "accuracy                         98.74%     1672\n",
       "macro avg       98.87%  95.69%   97.20%     1672\n",
       "weighted avg    98.75%  98.74%   98.72%     1672"
      ]
     },
     "metadata": {},
     "output_type": "display_data"
    }
   ],
   "source": [
    "#| label: table_report_bayes\n",
    "table_report(y_test, y_pred)"
   ]
  },
  {
   "cell_type": "code",
   "execution_count": 114,
   "metadata": {},
   "outputs": [
    {
     "data": {
      "image/png": "[encoded data removed]",
      "text/plain": [
       "<Figure size 400x300 with 1 Axes>"
      ]
     },
     "metadata": {},
     "output_type": "display_data"
    }
   ],
   "source": [
    "#| label: figure_pr_bayes\n",
    "precision_recall_plot(y_test, y_pred_proba[:, 1])"
   ]
  },
  {
   "cell_type": "code",
   "execution_count": 115,
   "metadata": {},
   "outputs": [
    {
     "data": {
      "image/png": "[encoded data removed]",
      "text/plain": [
       "<Figure size 400x300 with 1 Axes>"
      ]
     },
     "metadata": {},
     "output_type": "display_data"
    }
   ],
   "source": [
    "#| label: figure_roc_bayes\n",
    "roc_plot(y_test, y_pred_proba[:, 1])"
   ]
  },
  {
   "cell_type": "markdown",
   "metadata": {},
   "source": [
    "#### Logistic Regression"
   ]
  },
  {
   "cell_type": "code",
   "execution_count": 116,
   "metadata": {},
   "outputs": [],
   "source": [
    "model_infos = models[1]\n",
    "best_model = model_infos['best_model']\n",
    "y_pred = best_model.predict(X_test)\n",
    "y_pred_proba = best_model.predict_proba(X_test)"
   ]
  },
  {
   "cell_type": "code",
   "execution_count": 117,
   "metadata": {},
   "outputs": [
    {
     "data": {
      "text/html": [
       "<div>\n",
       "<style scoped>\n",
       "    .dataframe tbody tr th:only-of-type {\n",
       "        vertical-align: middle;\n",
       "    }\n",
       "\n",
       "    .dataframe tbody tr th {\n",
       "        vertical-align: top;\n",
       "    }\n",
       "\n",
       "    .dataframe thead th {\n",
       "        text-align: right;\n",
       "    }\n",
       "</style>\n",
       "<table border=\"1\" class=\"dataframe\">\n",
       "  <thead>\n",
       "    <tr style=\"text-align: right;\">\n",
       "      <th></th>\n",
       "      <th>precision</th>\n",
       "      <th>recall</th>\n",
       "      <th>f1-score</th>\n",
       "      <th>support</th>\n",
       "    </tr>\n",
       "  </thead>\n",
       "  <tbody>\n",
       "    <tr>\n",
       "      <th>ham</th>\n",
       "      <td>97.43%</td>\n",
       "      <td>99.59%</td>\n",
       "      <td>98.50%</td>\n",
       "      <td>1448</td>\n",
       "    </tr>\n",
       "    <tr>\n",
       "      <th>spam</th>\n",
       "      <td>96.88%</td>\n",
       "      <td>83.04%</td>\n",
       "      <td>89.42%</td>\n",
       "      <td>224</td>\n",
       "    </tr>\n",
       "    <tr>\n",
       "      <th>accuracy</th>\n",
       "      <td></td>\n",
       "      <td></td>\n",
       "      <td>97.37%</td>\n",
       "      <td>1672</td>\n",
       "    </tr>\n",
       "    <tr>\n",
       "      <th>macro avg</th>\n",
       "      <td>97.15%</td>\n",
       "      <td>91.31%</td>\n",
       "      <td>93.96%</td>\n",
       "      <td>1672</td>\n",
       "    </tr>\n",
       "    <tr>\n",
       "      <th>weighted avg</th>\n",
       "      <td>97.36%</td>\n",
       "      <td>97.37%</td>\n",
       "      <td>97.28%</td>\n",
       "      <td>1672</td>\n",
       "    </tr>\n",
       "  </tbody>\n",
       "</table>\n",
       "</div>"
      ],
      "text/plain": [
       "             precision  recall f1-score  support\n",
       "ham             97.43%  99.59%   98.50%     1448\n",
       "spam            96.88%  83.04%   89.42%      224\n",
       "accuracy                         97.37%     1672\n",
       "macro avg       97.15%  91.31%   93.96%     1672\n",
       "weighted avg    97.36%  97.37%   97.28%     1672"
      ]
     },
     "metadata": {},
     "output_type": "display_data"
    }
   ],
   "source": [
    "#| label: table_report_LR\n",
    "table_report(y_test, y_pred)"
   ]
  },
  {
   "cell_type": "code",
   "execution_count": 118,
   "metadata": {},
   "outputs": [
    {
     "data": {
      "image/png": "[encoded data removed]",
      "text/plain": [
       "<Figure size 400x300 with 1 Axes>"
      ]
     },
     "metadata": {},
     "output_type": "display_data"
    }
   ],
   "source": [
    "#| label: figure_pr_LR\n",
    "precision_recall_plot(y_test, y_pred_proba[:, 1])"
   ]
  },
  {
   "cell_type": "code",
   "execution_count": 119,
   "metadata": {},
   "outputs": [
    {
     "data": {
      "image/png": "[encoded data removed]",
      "text/plain": [
       "<Figure size 400x300 with 1 Axes>"
      ]
     },
     "metadata": {},
     "output_type": "display_data"
    }
   ],
   "source": [
    "#| label: figure_roc_LR\n",
    "roc_plot(y_test, y_pred_proba[:, 1])"
   ]
  },
  {
   "cell_type": "markdown",
   "metadata": {},
   "source": [
    "#### Support Vector Classification (SVM)"
   ]
  },
  {
   "cell_type": "code",
   "execution_count": 120,
   "metadata": {},
   "outputs": [],
   "source": [
    "model_infos = models[2]\n",
    "best_model = model_infos['best_model']\n",
    "y_pred = best_model.predict(X_test)\n",
    "y_pred_proba = best_model.predict_proba(X_test)"
   ]
  },
  {
   "cell_type": "code",
   "execution_count": 121,
   "metadata": {},
   "outputs": [
    {
     "data": {
      "text/html": [
       "<div>\n",
       "<style scoped>\n",
       "    .dataframe tbody tr th:only-of-type {\n",
       "        vertical-align: middle;\n",
       "    }\n",
       "\n",
       "    .dataframe tbody tr th {\n",
       "        vertical-align: top;\n",
       "    }\n",
       "\n",
       "    .dataframe thead th {\n",
       "        text-align: right;\n",
       "    }\n",
       "</style>\n",
       "<table border=\"1\" class=\"dataframe\">\n",
       "  <thead>\n",
       "    <tr style=\"text-align: right;\">\n",
       "      <th></th>\n",
       "      <th>precision</th>\n",
       "      <th>recall</th>\n",
       "      <th>f1-score</th>\n",
       "      <th>support</th>\n",
       "    </tr>\n",
       "  </thead>\n",
       "  <tbody>\n",
       "    <tr>\n",
       "      <th>ham</th>\n",
       "      <td>98.84%</td>\n",
       "      <td>100.00%</td>\n",
       "      <td>99.42%</td>\n",
       "      <td>1448</td>\n",
       "    </tr>\n",
       "    <tr>\n",
       "      <th>spam</th>\n",
       "      <td>100.00%</td>\n",
       "      <td>92.41%</td>\n",
       "      <td>96.06%</td>\n",
       "      <td>224</td>\n",
       "    </tr>\n",
       "    <tr>\n",
       "      <th>accuracy</th>\n",
       "      <td></td>\n",
       "      <td></td>\n",
       "      <td>98.98%</td>\n",
       "      <td>1672</td>\n",
       "    </tr>\n",
       "    <tr>\n",
       "      <th>macro avg</th>\n",
       "      <td>99.42%</td>\n",
       "      <td>96.21%</td>\n",
       "      <td>97.74%</td>\n",
       "      <td>1672</td>\n",
       "    </tr>\n",
       "    <tr>\n",
       "      <th>weighted avg</th>\n",
       "      <td>99.00%</td>\n",
       "      <td>98.98%</td>\n",
       "      <td>98.97%</td>\n",
       "      <td>1672</td>\n",
       "    </tr>\n",
       "  </tbody>\n",
       "</table>\n",
       "</div>"
      ],
      "text/plain": [
       "             precision   recall f1-score  support\n",
       "ham             98.84%  100.00%   99.42%     1448\n",
       "spam           100.00%   92.41%   96.06%      224\n",
       "accuracy                          98.98%     1672\n",
       "macro avg       99.42%   96.21%   97.74%     1672\n",
       "weighted avg    99.00%   98.98%   98.97%     1672"
      ]
     },
     "metadata": {},
     "output_type": "display_data"
    }
   ],
   "source": [
    "#| label: table_report_SVC\n",
    "table_report(y_test, y_pred)"
   ]
  },
  {
   "cell_type": "code",
   "execution_count": 122,
   "metadata": {},
   "outputs": [
    {
     "data": {
      "image/png": "[encoded data removed]",
      "text/plain": [
       "<Figure size 400x300 with 1 Axes>"
      ]
     },
     "metadata": {},
     "output_type": "display_data"
    }
   ],
   "source": [
    "#| label: figure_pr_SVC\n",
    "precision_recall_plot(y_test, y_pred_proba[:, 1])"
   ]
  },
  {
   "cell_type": "code",
   "execution_count": 123,
   "metadata": {},
   "outputs": [
    {
     "data": {
      "image/png": "[encoded data removed]",
      "text/plain": [
       "<Figure size 400x300 with 1 Axes>"
      ]
     },
     "metadata": {},
     "output_type": "display_data"
    }
   ],
   "source": [
    "#| label: figure_roc_SVC\n",
    "roc_plot(y_test, y_pred_proba[:, 1])"
   ]
  },
  {
   "cell_type": "markdown",
   "metadata": {},
   "source": [
    "### Refit and save model"
   ]
  },
  {
   "cell_type": "code",
   "execution_count": null,
   "metadata": {},
   "outputs": [],
   "source": [
    "import pickle\n",
    "\n",
    "DATA_FOLDER = Path('../data')\n",
    "SAVE = False\n",
    "\n",
    "if SAVE:\n",
    "    # Refit on all data and save model\n",
    "    for model_infos in models:\n",
    "        best_model = model_infos['best_model']\n",
    "        best_model.fit(df['text'], df['is_spam'])\n",
    "        \n",
    "        with open(DATA_FOLDER / model_infos['model_filepath'], 'wb') as f:\n",
    "            pickle.dump(best_model, f)"
   ]
  },
  {
   "cell_type": "markdown",
   "metadata": {},
   "source": [
    "### Load and perform model inference \n",
    "\n",
    ":::{note}\n",
    "The inference can only be performed when executing the notebook locally.\n",
    ":::\n"
   ]
  },
  {
   "cell_type": "code",
   "execution_count": 125,
   "metadata": {},
   "outputs": [
    {
     "data": {
      "application/vnd.jupyter.widget-view+json": {
       "model_id": "3f20ccdaae764697bdf4cf0f802d781b",
       "version_major": 2,
       "version_minor": 0
      },
      "text/plain": [
       "Textarea(value='', description='Input:', placeholder='Type something')"
      ]
     },
     "metadata": {},
     "output_type": "display_data"
    },
    {
     "data": {
      "application/vnd.jupyter.widget-view+json": {
       "model_id": "eaac7b8b158f46929390e095596938a8",
       "version_major": 2,
       "version_minor": 0
      },
      "text/plain": [
       "Output()"
      ]
     },
     "metadata": {},
     "output_type": "display_data"
    }
   ],
   "source": [
    "import ipywidgets as widgets\n",
    "from IPython.display import display\n",
    "\n",
    "# Load the saved model\n",
    "model_filepath = Path('naive_bayes_model.pkl')  # Change this to the appropriate model file path\n",
    "with open(DATA_FOLDER / model_filepath, 'rb') as f:\n",
    "    loaded_model = pickle.load(f)\n",
    "\n",
    "# Create input/output widgets\n",
    "input_text = widgets.Textarea(\n",
    "    value='',\n",
    "    placeholder='Type something',\n",
    "    description='Input:',\n",
    "    disabled=False\n",
    ")\n",
    "\n",
    "output = widgets.Output()\n",
    "\n",
    "# Define a function to perform inference\n",
    "def on_text_submit(change):\n",
    "    with output:\n",
    "        output.clear_output()\n",
    "        text = change['new']\n",
    "        text = preprocess_text(text)\n",
    "        \n",
    "        tokens = word_tokenize(text, language='french')\n",
    "        tokens = [word for word in tokens if word not in stop_words]\n",
    "        tokens = [SnowballStemmer('french').stem(word) for word in tokens]\n",
    "        \n",
    "        text = ' '.join(tokens)\n",
    "\n",
    "        prediction_proba = loaded_model.predict_proba([text])\n",
    "        print(f\"Spam probability (between 0 and 1): {prediction_proba[0][1]*100:.2f}%\")\n",
    "\n",
    "# Bind the function to the input widget\n",
    "input_text.observe(on_text_submit, names='value')\n",
    "\n",
    "display(input_text, output)"
   ]
  }
 ],
 "metadata": {
  "kernelspec": {
   "display_name": "M1MIASHS-NLP",
   "language": "python",
   "name": "python3"
  },
  "language_info": {
   "codemirror_mode": {
    "name": "ipython",
    "version": 3
   },
   "file_extension": ".py",
   "mimetype": "text/x-python",
   "name": "python",
   "nbconvert_exporter": "python",
   "pygments_lexer": "ipython3",
   "version": "3.11.10"
  }
 },
 "nbformat": 4,
 "nbformat_minor": 2
}
